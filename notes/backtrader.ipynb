{
 "cells": [
  {
   "cell_type": "code",
   "execution_count": 65,
   "metadata": {
    "collapsed": true,
    "pycharm": {
     "name": "#%%\n"
    }
   },
   "outputs": [],
   "source": [
    "# 导入backtrader框架\n",
    "import backtrader as bt\n",
    "import os\n",
    "import sys\n",
    "import pandas as pd\n",
    "from datetime import datetime\n",
    "from datasource.akshare_source import Akshare\n",
    "import matplotlib.pyplot as plt\n",
    "import yfinance as yf"
   ]
  },
  {
   "cell_type": "code",
   "execution_count": 38,
   "outputs": [
    {
     "name": "stdout",
     "output_type": "stream",
     "text": [
      "组合期初资金: 100000.00\n",
      "组合期末资金: 100000.00\n"
     ]
    }
   ],
   "source": [
    "# 先跑一个基本框架\n",
    "\n",
    "# 创建Cerebro引擎\n",
    "cerebro = bt.Cerebro()\n",
    "\n",
    "#Cerebro引擎在后台创建broker(经纪人)，系统默认资金量为10000\n",
    "# 自行设定资金量\n",
    "cerebro.broker.setcash(100000.0)\n",
    "\n",
    "# 引擎运行前打印期出资金\n",
    "print('组合期初资金: %.2f' % cerebro.broker.getvalue())\n",
    "cerebro.run()\n",
    "# 引擎运行后打期末资金\n",
    "print('组合期末资金: %.2f' % cerebro.broker.getvalue())"
   ],
   "metadata": {
    "collapsed": false,
    "pycharm": {
     "name": "#%%\n"
    }
   }
  },
  {
   "cell_type": "markdown",
   "source": [
    "In this example:\n",
    "- backtrader was imported\n",
    "- The Cerebro engine was instantiated\n",
    "- The resulting cerebro instance was told to run (loop over data)\n",
    "- And the resulting outcome was printed out"
   ],
   "metadata": {
    "collapsed": false,
    "pycharm": {
     "name": "#%% md\n"
    }
   }
  },
  {
   "cell_type": "code",
   "execution_count": 66,
   "outputs": [
    {
     "name": "stdout",
     "output_type": "stream",
     "text": [
      "初始资金: 1000000\n",
      "回测期间：19910403:20200616\n",
      "总资金: 1217360.83\n",
      "净收益: 217360.83\n"
     ]
    },
    {
     "ename": "ImportError",
     "evalue": "cannot import name 'warnings' from 'matplotlib.dates' (/Users/wanghaoxin/Library/Python/3.8/lib/python/site-packages/matplotlib/dates.py)",
     "output_type": "error",
     "traceback": [
      "\u001B[0;31m---------------------------------------------------------------------------\u001B[0m",
      "\u001B[0;31mImportError\u001B[0m                               Traceback (most recent call last)",
      "\u001B[0;32m<ipython-input-66-c02d62a7f9e5>\u001B[0m in \u001B[0;36m<module>\u001B[0;34m\u001B[0m\n\u001B[0;32m----> 1\u001B[0;31m \u001B[0;32mfrom\u001B[0m \u001B[0mstrategy\u001B[0m\u001B[0;34m.\u001B[0m\u001B[0msimple_moving_average_crossover\u001B[0m \u001B[0;32mimport\u001B[0m \u001B[0mMyStrategy\u001B[0m\u001B[0;34m\u001B[0m\u001B[0;34m\u001B[0m\u001B[0m\n\u001B[0m\u001B[1;32m      2\u001B[0m \u001B[0msymbol\u001B[0m \u001B[0;34m=\u001B[0m \u001B[0;34m\"600036\"\u001B[0m\u001B[0;34m\u001B[0m\u001B[0;34m\u001B[0m\u001B[0m\n\u001B[1;32m      3\u001B[0m \u001B[0mstart_date\u001B[0m\u001B[0;34m,\u001B[0m \u001B[0mend_date\u001B[0m \u001B[0;34m=\u001B[0m \u001B[0;34m\"20220601\"\u001B[0m\u001B[0;34m,\u001B[0m \u001B[0;34m\"20220908\"\u001B[0m\u001B[0;34m\u001B[0m\u001B[0;34m\u001B[0m\u001B[0m\n\u001B[1;32m      4\u001B[0m \u001B[0;34m\u001B[0m\u001B[0m\n\u001B[1;32m      5\u001B[0m \u001B[0mcli\u001B[0m \u001B[0;34m=\u001B[0m \u001B[0mAkshare\u001B[0m\u001B[0;34m(\u001B[0m\u001B[0;34m)\u001B[0m\u001B[0;34m\u001B[0m\u001B[0;34m\u001B[0m\u001B[0m\n",
      "\u001B[0;32m~/PycharmProjects/effective-disco/strategy/simple_moving_average_crossover.py\u001B[0m in \u001B[0;36m<module>\u001B[0;34m\u001B[0m\n\u001B[1;32m     75\u001B[0m \u001B[0mprint\u001B[0m\u001B[0;34m(\u001B[0m\u001B[0;34mf\"净收益: {round(pnl, 2)}\"\u001B[0m\u001B[0;34m)\u001B[0m\u001B[0;34m\u001B[0m\u001B[0;34m\u001B[0m\u001B[0m\n\u001B[1;32m     76\u001B[0m \u001B[0;34m\u001B[0m\u001B[0m\n\u001B[0;32m---> 77\u001B[0;31m \u001B[0mcerebro\u001B[0m\u001B[0;34m.\u001B[0m\u001B[0mplot\u001B[0m\u001B[0;34m(\u001B[0m\u001B[0mstyle\u001B[0m\u001B[0;34m=\u001B[0m\u001B[0;34m'candlestick'\u001B[0m\u001B[0;34m)\u001B[0m  \u001B[0;31m# 画图\u001B[0m\u001B[0;34m\u001B[0m\u001B[0;34m\u001B[0m\u001B[0m\n\u001B[0m\u001B[1;32m     78\u001B[0m \u001B[0mplt\u001B[0m\u001B[0;34m.\u001B[0m\u001B[0mshow\u001B[0m\u001B[0;34m(\u001B[0m\u001B[0;34m)\u001B[0m\u001B[0;34m\u001B[0m\u001B[0;34m\u001B[0m\u001B[0m\n",
      "\u001B[0;32m/usr/local/lib/python3.8/site-packages/backtrader/cerebro.py\u001B[0m in \u001B[0;36mplot\u001B[0;34m(self, plotter, numfigs, iplot, start, end, width, height, dpi, tight, use, **kwargs)\u001B[0m\n\u001B[1;32m    972\u001B[0m \u001B[0;34m\u001B[0m\u001B[0m\n\u001B[1;32m    973\u001B[0m         \u001B[0;32mif\u001B[0m \u001B[0;32mnot\u001B[0m \u001B[0mplotter\u001B[0m\u001B[0;34m:\u001B[0m\u001B[0;34m\u001B[0m\u001B[0;34m\u001B[0m\u001B[0m\n\u001B[0;32m--> 974\u001B[0;31m             \u001B[0;32mfrom\u001B[0m \u001B[0;34m.\u001B[0m \u001B[0;32mimport\u001B[0m \u001B[0mplot\u001B[0m\u001B[0;34m\u001B[0m\u001B[0;34m\u001B[0m\u001B[0m\n\u001B[0m\u001B[1;32m    975\u001B[0m             \u001B[0;32mif\u001B[0m \u001B[0mself\u001B[0m\u001B[0;34m.\u001B[0m\u001B[0mp\u001B[0m\u001B[0;34m.\u001B[0m\u001B[0moldsync\u001B[0m\u001B[0;34m:\u001B[0m\u001B[0;34m\u001B[0m\u001B[0;34m\u001B[0m\u001B[0m\n\u001B[1;32m    976\u001B[0m                 \u001B[0mplotter\u001B[0m \u001B[0;34m=\u001B[0m \u001B[0mplot\u001B[0m\u001B[0;34m.\u001B[0m\u001B[0mPlot_OldSync\u001B[0m\u001B[0;34m(\u001B[0m\u001B[0;34m**\u001B[0m\u001B[0mkwargs\u001B[0m\u001B[0;34m)\u001B[0m\u001B[0;34m\u001B[0m\u001B[0;34m\u001B[0m\u001B[0m\n",
      "\u001B[0;32m/usr/local/lib/python3.8/site-packages/backtrader/plot/__init__.py\u001B[0m in \u001B[0;36m<module>\u001B[0;34m\u001B[0m\n\u001B[1;32m     40\u001B[0m \u001B[0;34m\u001B[0m\u001B[0m\n\u001B[1;32m     41\u001B[0m \u001B[0;34m\u001B[0m\u001B[0m\n\u001B[0;32m---> 42\u001B[0;31m \u001B[0;32mfrom\u001B[0m \u001B[0;34m.\u001B[0m\u001B[0mplot\u001B[0m \u001B[0;32mimport\u001B[0m \u001B[0mPlot\u001B[0m\u001B[0;34m,\u001B[0m \u001B[0mPlot_OldSync\u001B[0m\u001B[0;34m\u001B[0m\u001B[0;34m\u001B[0m\u001B[0m\n\u001B[0m\u001B[1;32m     43\u001B[0m \u001B[0;32mfrom\u001B[0m \u001B[0;34m.\u001B[0m\u001B[0mscheme\u001B[0m \u001B[0;32mimport\u001B[0m \u001B[0mPlotScheme\u001B[0m\u001B[0;34m\u001B[0m\u001B[0;34m\u001B[0m\u001B[0m\n",
      "\u001B[0;32m/usr/local/lib/python3.8/site-packages/backtrader/plot/plot.py\u001B[0m in \u001B[0;36m<module>\u001B[0;34m\u001B[0m\n\u001B[1;32m     42\u001B[0m \u001B[0;32mfrom\u001B[0m \u001B[0;34m.\u001B[0m\u001B[0mfinance\u001B[0m \u001B[0;32mimport\u001B[0m \u001B[0mplot_candlestick\u001B[0m\u001B[0;34m,\u001B[0m \u001B[0mplot_ohlc\u001B[0m\u001B[0;34m,\u001B[0m \u001B[0mplot_volume\u001B[0m\u001B[0;34m,\u001B[0m \u001B[0mplot_lineonclose\u001B[0m\u001B[0;34m\u001B[0m\u001B[0;34m\u001B[0m\u001B[0m\n\u001B[1;32m     43\u001B[0m \u001B[0;32mfrom\u001B[0m \u001B[0;34m.\u001B[0m\u001B[0mformatters\u001B[0m \u001B[0;32mimport\u001B[0m \u001B[0;34m(\u001B[0m\u001B[0mMyVolFormatter\u001B[0m\u001B[0;34m,\u001B[0m \u001B[0mMyDateFormatter\u001B[0m\u001B[0;34m,\u001B[0m \u001B[0mgetlocator\u001B[0m\u001B[0;34m)\u001B[0m\u001B[0;34m\u001B[0m\u001B[0;34m\u001B[0m\u001B[0m\n\u001B[0;32m---> 44\u001B[0;31m \u001B[0;32mfrom\u001B[0m \u001B[0;34m.\u001B[0m \u001B[0;32mimport\u001B[0m \u001B[0mlocator\u001B[0m \u001B[0;32mas\u001B[0m \u001B[0mloc\u001B[0m\u001B[0;34m\u001B[0m\u001B[0;34m\u001B[0m\u001B[0m\n\u001B[0m\u001B[1;32m     45\u001B[0m \u001B[0;32mfrom\u001B[0m \u001B[0;34m.\u001B[0m\u001B[0mmulticursor\u001B[0m \u001B[0;32mimport\u001B[0m \u001B[0mMultiCursor\u001B[0m\u001B[0;34m\u001B[0m\u001B[0;34m\u001B[0m\u001B[0m\n\u001B[1;32m     46\u001B[0m \u001B[0;32mfrom\u001B[0m \u001B[0;34m.\u001B[0m\u001B[0mscheme\u001B[0m \u001B[0;32mimport\u001B[0m \u001B[0mPlotScheme\u001B[0m\u001B[0;34m\u001B[0m\u001B[0;34m\u001B[0m\u001B[0m\n",
      "\u001B[0;32m/usr/local/lib/python3.8/site-packages/backtrader/plot/locator.py\u001B[0m in \u001B[0;36m<module>\u001B[0;34m\u001B[0m\n\u001B[1;32m     33\u001B[0m \u001B[0;32mfrom\u001B[0m \u001B[0mmatplotlib\u001B[0m\u001B[0;34m.\u001B[0m\u001B[0mdates\u001B[0m \u001B[0;32mimport\u001B[0m \u001B[0mAutoDateFormatter\u001B[0m \u001B[0;32mas\u001B[0m \u001B[0mADFormatter\u001B[0m\u001B[0;34m\u001B[0m\u001B[0;34m\u001B[0m\u001B[0m\n\u001B[1;32m     34\u001B[0m \u001B[0;34m\u001B[0m\u001B[0m\n\u001B[0;32m---> 35\u001B[0;31m from matplotlib.dates import (HOURS_PER_DAY, MIN_PER_HOUR, SEC_PER_MIN,\n\u001B[0m\u001B[1;32m     36\u001B[0m                               \u001B[0mMONTHS_PER_YEAR\u001B[0m\u001B[0;34m,\u001B[0m \u001B[0mDAYS_PER_WEEK\u001B[0m\u001B[0;34m,\u001B[0m\u001B[0;34m\u001B[0m\u001B[0;34m\u001B[0m\u001B[0m\n\u001B[1;32m     37\u001B[0m                               \u001B[0mSEC_PER_HOUR\u001B[0m\u001B[0;34m,\u001B[0m \u001B[0mSEC_PER_DAY\u001B[0m\u001B[0;34m,\u001B[0m\u001B[0;34m\u001B[0m\u001B[0;34m\u001B[0m\u001B[0m\n",
      "\u001B[0;31mImportError\u001B[0m: cannot import name 'warnings' from 'matplotlib.dates' (/Users/wanghaoxin/Library/Python/3.8/lib/python/site-packages/matplotlib/dates.py)"
     ]
    }
   ],
   "source": [
    "from strategy.simple_moving_average_crossover import MyStrategy\n",
    "symbol = \"600036\"\n",
    "start_date, end_date = \"20220601\", \"20220908\"\n",
    "\n",
    "cli = Akshare()\n",
    "data = cli.stock_zh_a_hist(symbol, start_date=start_date, end_date=end_date).iloc[:, :6]\n",
    "\n",
    "\n",
    "# 把 date 作为日期索引，以符合 Backtrader 的要求\n",
    "data.index = pd.to_datetime(data['date'])\n",
    "print(data.head(10))\n",
    "\n",
    "\n",
    "data_feed = bt.feeds.PandasData(dataname=data, fromdate=start_date, todate=end_date)  # 加载数据\n",
    "print(\"\\n\")\n",
    "\n",
    "# 加载交易数据\n",
    "cerebro.adddata(data_feed)\n",
    "cerebro.addstrategy(MyStrategy)  # 将交易策略加载到回测系统中\n",
    "\n",
    "# 设置投资金额100000.0\n",
    "cerebro.broker.setcash(100000.0)\n",
    "# 引擎运行前打印期出资金\n",
    "print('组合期初资金: %.2f' % cerebro.broker.getvalue())\n",
    "cerebro.run()\n",
    "# 引擎运行后打期末资金\n",
    "print('组合期末资金: %.2f' % cerebro.broker.getvalue())"
   ],
   "metadata": {
    "collapsed": false,
    "pycharm": {
     "name": "#%%\n"
    }
   }
  },
  {
   "cell_type": "code",
   "execution_count": 20,
   "outputs": [],
   "source": [],
   "metadata": {
    "collapsed": false,
    "pycharm": {
     "name": "#%%\n"
    }
   }
  }
 ],
 "metadata": {
  "kernelspec": {
   "display_name": "Python 3",
   "language": "python",
   "name": "python3"
  },
  "language_info": {
   "codemirror_mode": {
    "name": "ipython",
    "version": 2
   },
   "file_extension": ".py",
   "mimetype": "text/x-python",
   "name": "python",
   "nbconvert_exporter": "python",
   "pygments_lexer": "ipython2",
   "version": "2.7.6"
  }
 },
 "nbformat": 4,
 "nbformat_minor": 0
}